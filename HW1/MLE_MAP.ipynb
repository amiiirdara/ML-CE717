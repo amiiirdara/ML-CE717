{
 "cells": [
  {
   "cell_type": "markdown",
   "metadata": {
    "editable": true,
    "id": "K1-izC4ZKHJ9",
    "slideshow": {
     "slide_type": ""
    },
    "tags": []
   },
   "source": [
    "<h1 style=\"text-align: center\">\n",
    "Machine Learning </br>\n",
    "MLE & MAP in Python\n",
    "</h1>\n"
   ]
  },
  {
   "cell_type": "markdown",
   "metadata": {
    "id": "YhTuYwHYbE_1"
   },
   "source": [
    "## Objective\n",
    "This exercise will help you gain a deeper understanding of, and insights into, Maximum Likelihood Estimation (MLE) and Maximum A Posteriori (MAP) estimation$\\textit{Maximum Likelihood Estimation (MLE) and Maximum A Posteriori (MAP) }$ :) \\\\\n",
    "Let’s say you have a barrel of apples that are all different sizes. You pick an apple at random, and you want to know its weight. Unfortunately, all you have is a broken scale. answer the questions below."
   ]
  },
  {
   "cell_type": "markdown",
   "metadata": {
    "id": "eSaLb6AYa9DJ"
   },
   "source": [
    "1) For the sake of this section, lets imagine a farmer tells you that the scale returns the weight of the object with an error of +/- a standard deviation of 5g. We can describe this mathematically as:\n",
    "$$\n",
    "measurement = weight + \\mathcal{N}(0, 5g)\n",
    "$$\n",
    "You can weigh the apple as many times as you want, so weigh it 100 times.\n",
    "plot its histogram of your 100 measurements. (y axis is the counts and x-axis is the measured weight)"
   ]
  },
  {
   "cell_type": "code",
   "execution_count": 1,
   "metadata": {},
   "outputs": [],
   "source": [
    "import numpy as np\n",
    "import matplotlib.pyplot as plt\n",
    "from scipy.stats import norm, invgamma"
   ]
  },
  {
   "cell_type": "code",
   "execution_count": 7,
   "metadata": {
    "id": "hPMnHTcia07a"
   },
   "outputs": [
    {
     "data": {
      "image/png": "[encoded data removed]",
      "text/plain": [
       "<Figure size 640x480 with 1 Axes>"
      ]
     },
     "metadata": {},
     "output_type": "display_data"
    }
   ],
   "source": [
    "import numpy as np\n",
    "import matplotlib.pyplot as plt\n",
    "\n",
    "def measure(weight):\n",
    "    return weight + np.random.normal(0, 5, 1000)\n",
    "\n",
    "weight = 100\n",
    "tests = [measure(weight) for _ in range(100)]\n",
    "flat_tests = [item for sublist in tests for item in sublist]\n",
    "\n",
    "plt.hist(flat_tests, bins=50, edgecolor='black', alpha=0.7)\n",
    "plt.xlabel('W')\n",
    "plt.ylabel('F')\n",
    "plt.show()"
   ]
  },
  {
   "cell_type": "markdown",
   "metadata": {
    "id": "HD9Mqy-bcPi5"
   },
   "source": [
    "2) Find the average weight of the apple.\n",
    "Is it a good guess? state your reason."
   ]
  },
  {
   "cell_type": "code",
   "execution_count": 10,
   "metadata": {
    "id": "xlCBTC0lcPKa"
   },
   "outputs": [
    {
     "name": "stdout",
     "output_type": "stream",
     "text": [
      "The average is: 100.22\n"
     ]
    }
   ],
   "source": [
    "average = np.mean(tests[0])\n",
    "rounded_average = round(average, 2)\n",
    "\n",
    "print(f\"The average is: {rounded_average}\")"
   ]
  },
  {
   "cell_type": "markdown",
   "metadata": {
    "id": "y-P9PJuKcrbq"
   },
   "source": [
    "3) we are going to use grid approximation for calculating the MLE. here is the link if you wnat to get more fimilar with this technique:\n",
    "https://www.bayesrulesbook.com/chapter-6\n",
    "\n",
    "Our end goal is to find the weight of the apple, given the data we have. To formulate it in a Bayesian way: We’ll ask what is the probability of the apple having weight, $w$, given the measurements we took, $X$. And, because we're formulating this in a Bayesian way, we use Bayes’ Law to find the answer:\n",
    "\n",
    "$$\n",
    "P(w|X) = \\frac{P(X|w)P(w)}{P(X)}\n",
    "$$\n",
    "\n",
    "If we make no assumptions about the initial weight of our apple, then we can drop $P(w)$. We’ll say all sizes of apples are equally likely (we’ll revisit this assumption in the MAP approximation).\n",
    "\n",
    "Furthermore, we’ll drop $P(X)$ - the probability of seeing our data. This is a normalization constant and will be important if we do want to know the probabilities of apple weights. But, for right now, our end goal is to only to find the most probable weight. $P(X)$ is independent of $w$, so we can drop it if we’re doing relative comparisons.\n",
    "\n",
    "This leaves us with $P(X|w)$, our likelihood, as in, what is the likelihood that we would see the data, $X$, given an apple of weight $w$. If we maximize this, we maximize the probability that we will guess the right weight.\n",
    "\n",
    "The grid approximation is probably the simplest way to do this. Basically, we’ll systematically step through different weight guesses, and compare what it would look like if this hypothetical weight were to generate data. We’ll compare this hypothetical data to our real data and pick the one that matches the best.\n",
    "\n",
    "To formulate this mathematically:\n",
    "\n",
    "For each of these guesses, we’re asking \"what is the probability that the data we have, came from the distribution that our weight guess would generate\". Because each measurement is independent from another, we can break the above equation down into finding the probability on a per measurement basis:\n",
    "\n",
    "$$\n",
    "P(X|w) = \\prod_{i}^{N} p(x_i|w)\n",
    "$$\n",
    "\n",
    "So, if we multiply the probability that we would see each individual data point - given our weight guess - then we can find one number comparing our weight guess to all of our data.\n",
    "\n",
    "The peak in the likelihood is the weight of the apple.\n",
    "\n",
    "To make it computationally easier,\n",
    "\n",
    "$$\n",
    "\\log P(X|w) = \\log \\prod_{i}^{N} p(x_i|w) = \\sum_{i}^{N} \\log p(d_i|w)\n",
    "$$\n",
    "\n",
    "\n",
    "\n",
    "a) Why did we use log likelihood? Is it ok to do so?\n",
    "\n",
    "Yes, we use its log instead, for comfortable mathematical calculating and it's ok! Since the Likelihood function and its log are both ascending, the maximum point of these two functions will coincide. exactly. \n",
    "\n",
    "b) do the grid approximation and complete the cell below"
   ]
  },
  {
   "cell_type": "code",
   "execution_count": 38,
   "metadata": {
    "id": "9NnWmxzTiRfr"
   },
   "outputs": [
    {
     "name": "stdout",
     "output_type": "stream",
     "text": [
      "Maximum Likelihood Estimate (MLE):  100.0\n"
     ]
    }
   ],
   "source": [
    "weight_grid = np.linspace(0, 100)\n",
    "log_likelihoods = norm.logpdf(np.array(tests[0])[:, np.newaxis], loc=weight_grid, scale=10).sum(axis=0)\n",
    "\n",
    "max_log_likelihood = np.max(log_likelihoods)\n",
    "mle_weight = weight_grid[np.argmax(log_likelihoods)]\n",
    "\n",
    "print(\"Maximum Likelihood Estimate (MLE): \", mle_weight)"
   ]
  },
  {
   "cell_type": "markdown",
   "metadata": {
    "id": "NN3lt2npcc2S"
   },
   "source": [
    "Play around with the code and try to answer the following questions regarding MLE and MAP. You can draw plots to visualize as well."
   ]
  },
  {
   "cell_type": "code",
   "execution_count": 40,
   "metadata": {
    "id": "ezcWTpNQamCL"
   },
   "outputs": [
    {
     "name": "stdout",
     "output_type": "stream",
     "text": [
      "Average measurement: 83.143 g\n",
      "Maximum Likelihood estimate: 83.414 g\n",
      "Maximum A Posteriori estimate: 51.253 g\n",
      "The true weight of the apple was: 83.478 g\n"
     ]
    }
   ],
   "source": [
    "import numpy as np\n",
    "from scipy.stats import norm, invgamma\n",
    "\n",
    "# The barrel of apples\n",
    "# The average apples is between 70-100 g\n",
    "BARREL = np.random.normal(loc=85, scale=20, size=100)\n",
    "# Grid\n",
    "WEIGHT_GUESSES = np.linspace(1, 200, 100)\n",
    "ERROR_GUESSES = np.linspace(.1, 50, 100)\n",
    "\n",
    "# NOTE: Try changing the scale error\n",
    "# in practice, you would not know this number\n",
    "SCALE_ERR = 5\n",
    "\n",
    "# NOTE: Try changing the number of measurements taken\n",
    "N_MEASUREMENTS = 10\n",
    "\n",
    "# NOTE: Try changing the prior values and distributions\n",
    "PRIOR_WEIGHT = norm(50, 1).logpdf(WEIGHT_GUESSES)\n",
    "PRIOR_ERR = invgamma(4).logpdf(ERROR_GUESSES)\n",
    "\n",
    "LOG_PRIOR_GRID = np.add.outer(PRIOR_ERR, PRIOR_WEIGHT)\n",
    "\n",
    "def read_scale(apple):\n",
    "    return apple + np.random.normal(loc=0, scale=SCALE_ERR)\n",
    "\n",
    "def get_log_likelihood_grid(measurements):\n",
    "    log_likelihood = [\n",
    "        [\n",
    "            norm(weight_guess, error_guess).logpdf(measurements).sum()\n",
    "            for weight_guess in WEIGHT_GUESSES\n",
    "        ]\n",
    "        for error_guess in ERROR_GUESSES\n",
    "    ]\n",
    "    return np.asarray(log_likelihood)\n",
    "\n",
    "def get_mle(measurements):\n",
    "    log_likelihood_grid = get_log_likelihood_grid(measurements)\n",
    "    max_likelihood_index = np.unravel_index(np.argmax(log_likelihood_grid), log_likelihood_grid.shape)\n",
    "    return WEIGHT_GUESSES[max_likelihood_index[1]]\n",
    "\n",
    "def get_map(measurements):\n",
    "    log_likelihood_grid = get_log_likelihood_grid(measurements)\n",
    "    log_posterior_grid = log_likelihood_grid + LOG_PRIOR_GRID\n",
    "    max_posterior_index = np.unravel_index(np.argmax(log_posterior_grid), log_posterior_grid.shape)\n",
    "    return WEIGHT_GUESSES[max_posterior_index[1]]\n",
    "\n",
    "# Pick an apple at random\n",
    "apple = np.random.choice(BARREL)\n",
    "\n",
    "# Weigh the apple\n",
    "measurements = np.asarray([read_scale(apple) for _ in range(N_MEASUREMENTS)])\n",
    "\n",
    "print(f\"Average measurement: {measurements.mean():.3f} g\")\n",
    "print(f\"Maximum Likelihood estimate: {get_mle(measurements):.3f} g\")\n",
    "print(f\"Maximum A Posteriori estimate: {get_map(measurements):.3f} g\")\n",
    "print(f\"The true weight of the apple was: {apple:.3f} g\")"
   ]
  },
  {
   "cell_type": "markdown",
   "metadata": {
    "id": "LI_541TpetKk"
   },
   "source": [
    "<h3><i><i> Questions</h3>\n",
    "\n",
    "1. How sensitive is the MAP measurement to the choice of prior?\n",
    "\n",
    "The prior distribution directly affects the calculation of the MAP estimate, and its variance plays a crucial role in the outcome.\n",
    "\n",
    "When the variance of the prior is low, it means that we have high confidence in our prior information, and it will have a more substantial impact on the result. This is because a low variance prior distribution has a narrow range of possible values, leading to a more constrained estimate. On the other hand, a high variance prior would have a broader range of possible values, leading to a less constrained estimate.\n",
    "\n",
    "For instance, in the example provided, the Maximum Likelihood Estimate (MLE) is approximately 80, while the MAP estimate is around 50. The difference between the two estimates is significant, and it is primarily due to the effect of the prior in the MAP calculation. The prior distribution in this case has a low variance, indicating that we have high confidence in our prior information. Therefore, the MAP estimate is more heavily influenced by the prior information and ends up being lower than the MLE."
   ]
  },
  {
   "cell_type": "markdown",
   "metadata": {
    "id": "RMV-wgYXes_O",
    "jp-MarkdownHeadingCollapsed": true
   },
   "source": [
    "2. How sensitive is the MLE and MAP answer to the grid size?\n",
    "    \n",
    "The size of the grid can greatly affect the accuracy of our estimates. Both small and large grid sizes can be sensitive, but more points in the grid can help us capture subtle variations in the likelihood and posterior distributions, leading to a more precise estimate. Conversely, a coarser grid may miss the true parameters and result in less accurate estimation. This difference becomes much more noticeable when the grid is made more coarse, as shown above."
   ]
  }
 ],
 "metadata": {
  "colab": {
   "provenance": []
  },
  "kernelspec": {
   "display_name": "Python 3 (ipykernel)",
   "language": "python",
   "name": "python3"
  },
  "language_info": {
   "codemirror_mode": {
    "name": "ipython",
    "version": 3
   },
   "file_extension": ".py",
   "mimetype": "text/x-python",
   "name": "python",
   "nbconvert_exporter": "python",
   "pygments_lexer": "ipython3",
   "version": "3.11.6"
  }
 },
 "nbformat": 4,
 "nbformat_minor": 4
}
