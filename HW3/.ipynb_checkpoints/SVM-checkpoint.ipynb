{
 "cells": [
  {
   "cell_type": "markdown",
   "metadata": {
    "id": "AAKckUwpPQf5"
   },
   "source": [
    "<img src=\"./sharif.png\" alt=\"SUT logo\" width=300 height=300 align=left class=\"saturate\">\n",
    "\n",
    "<br>\n",
    "<font>\n",
    "<div dir=ltr align=center>\n",
    "<font color=0F5298 size=7>\n",
    "    Machine Learning <br>\n",
    "<font color=2565AE size=5>\n",
    "    Computer Engineering Department <br>\n",
    "    Spring 2024<br>\n",
    "<font color=3C99D size=5>\n",
    "    Practical Assignment 3<br>\n",
    "<font color=696880 size=4>\n",
    "    Ashkan Majidi - Shayan Salehi - Amirhossein Alamdar\n",
    "\n",
    "____"
   ]
  },
  {
   "cell_type": "markdown",
   "metadata": {
    "id": "Nw5sa0IdPQgA"
   },
   "source": [
    "# Personal Data"
   ]
  },
  {
   "cell_type": "code",
   "execution_count": 2,
   "metadata": {
    "id": "1r7fbCGSPQgA"
   },
   "outputs": [],
   "source": [
    "student_number = '99105431'\n",
    "first_name = 'AmirMahdi'\n",
    "last_name = 'Daraei'"
   ]
  },
  {
   "cell_type": "markdown",
   "metadata": {
    "id": "hRgv6MsRPQgA"
   },
   "source": [
    "# Introduction\n",
    "\n",
    "In this assignment, you will implement SVM (Support Vector Machines) for classification.\n"
   ]
  },
  {
   "cell_type": "markdown",
   "metadata": {
    "id": "oS0Oxp4tPQgB"
   },
   "source": [
    "# Data Prepfocessing"
   ]
  },
  {
   "cell_type": "markdown",
   "metadata": {
    "id": "7STkQS2wPQgB"
   },
   "source": [
    "Import your needed libraries in following cell."
   ]
  },
  {
   "cell_type": "code",
   "execution_count": 122,
   "metadata": {
    "id": "LynW7eqgPQgB"
   },
   "outputs": [],
   "source": [
    "import numpy as np\n",
    "import pandas as pd\n",
    "import seaborn as sns\n",
    "from sklearn.model_selection import train_test_split, GridSearchCV\n",
    "from sklearn.preprocessing import StandardScaler\n",
    "from sklearn.svm import SVC\n",
    "from sklearn.metrics import accuracy_score, balanced_accuracy_score, confusion_matrix\n",
    "from cvxopt import matrix, solvers"
   ]
  },
  {
   "cell_type": "markdown",
   "metadata": {
    "id": "ueGC54PyPQgB"
   },
   "source": [
    "Load data from ```satimage``` dataset and split data to features and labels. The ```label``` column is our target variable."
   ]
  },
  {
   "cell_type": "code",
   "execution_count": 165,
   "metadata": {
    "id": "kxO7XP6VPQgB"
   },
   "outputs": [],
   "source": [
    "data = pd.read_csv(\"./Data/satimage.csv\")\n",
    "\n",
    "X = data.drop(columns=[\"label\"])\n",
    "y = data[\"label\"]"
   ]
  },
  {
   "cell_type": "markdown",
   "metadata": {
    "id": "3cMpLRn1PQgB"
   },
   "source": [
    "Now split data to train, validation and test parts. 60% of data should be used for train, 15% for validation and 25% for test. After that scale the data to Standard Normal Distribution using ```StandardScaler``` class from ```scikit-learn``` library."
   ]
  },
  {
   "cell_type": "code",
   "execution_count": 166,
   "metadata": {
    "id": "ezil0DsfPQgB"
   },
   "outputs": [],
   "source": [
    "X_train, X_rest, y_train, y_rest = train_test_split(X, y, test_size=0.4, random_state=42)\n",
    "X_val, X_test, y_val, y_test = train_test_split(X_rest, y_rest, test_size=0.625, random_state=42)\n",
    "\n",
    "scaler = StandardScaler()\n",
    "X_train = scaler.fit_transform(X_train)\n",
    "X_val = scaler.transform(X_val)\n",
    "X_test = scaler.transform(X_test)"
   ]
  },
  {
   "cell_type": "markdown",
   "metadata": {
    "id": "HO7gRqdHPQgB"
   },
   "source": [
    "We want to train Binary SVM model for classification between labels 4 and 6. Choose corresponding datas and convert their lables to 1 and -1 respectively for 4 and 6."
   ]
  },
  {
   "cell_type": "code",
   "execution_count": 167,
   "metadata": {
    "colab": {
     "base_uri": "https://localhost:8080/",
     "height": 75
    },
    "id": "-A6SD4mbPQgC",
    "outputId": "f013e30f-b94b-4076-ea25-daa858757daf"
   },
   "outputs": [
    {
     "data": {
      "text/html": [
       "<style>#sk-container-id-17 {color: black;background-color: white;}#sk-container-id-17 pre{padding: 0;}#sk-container-id-17 div.sk-toggleable {background-color: white;}#sk-container-id-17 label.sk-toggleable__label {cursor: pointer;display: block;width: 100%;margin-bottom: 0;padding: 0.3em;box-sizing: border-box;text-align: center;}#sk-container-id-17 label.sk-toggleable__label-arrow:before {content: \"▸\";float: left;margin-right: 0.25em;color: #696969;}#sk-container-id-17 label.sk-toggleable__label-arrow:hover:before {color: black;}#sk-container-id-17 div.sk-estimator:hover label.sk-toggleable__label-arrow:before {color: black;}#sk-container-id-17 div.sk-toggleable__content {max-height: 0;max-width: 0;overflow: hidden;text-align: left;background-color: #f0f8ff;}#sk-container-id-17 div.sk-toggleable__content pre {margin: 0.2em;color: black;border-radius: 0.25em;background-color: #f0f8ff;}#sk-container-id-17 input.sk-toggleable__control:checked~div.sk-toggleable__content {max-height: 200px;max-width: 100%;overflow: auto;}#sk-container-id-17 input.sk-toggleable__control:checked~label.sk-toggleable__label-arrow:before {content: \"▾\";}#sk-container-id-17 div.sk-estimator input.sk-toggleable__control:checked~label.sk-toggleable__label {background-color: #d4ebff;}#sk-container-id-17 div.sk-label input.sk-toggleable__control:checked~label.sk-toggleable__label {background-color: #d4ebff;}#sk-container-id-17 input.sk-hidden--visually {border: 0;clip: rect(1px 1px 1px 1px);clip: rect(1px, 1px, 1px, 1px);height: 1px;margin: -1px;overflow: hidden;padding: 0;position: absolute;width: 1px;}#sk-container-id-17 div.sk-estimator {font-family: monospace;background-color: #f0f8ff;border: 1px dotted black;border-radius: 0.25em;box-sizing: border-box;margin-bottom: 0.5em;}#sk-container-id-17 div.sk-estimator:hover {background-color: #d4ebff;}#sk-container-id-17 div.sk-parallel-item::after {content: \"\";width: 100%;border-bottom: 1px solid gray;flex-grow: 1;}#sk-container-id-17 div.sk-label:hover label.sk-toggleable__label {background-color: #d4ebff;}#sk-container-id-17 div.sk-serial::before {content: \"\";position: absolute;border-left: 1px solid gray;box-sizing: border-box;top: 0;bottom: 0;left: 50%;z-index: 0;}#sk-container-id-17 div.sk-serial {display: flex;flex-direction: column;align-items: center;background-color: white;padding-right: 0.2em;padding-left: 0.2em;position: relative;}#sk-container-id-17 div.sk-item {position: relative;z-index: 1;}#sk-container-id-17 div.sk-parallel {display: flex;align-items: stretch;justify-content: center;background-color: white;position: relative;}#sk-container-id-17 div.sk-item::before, #sk-container-id-17 div.sk-parallel-item::before {content: \"\";position: absolute;border-left: 1px solid gray;box-sizing: border-box;top: 0;bottom: 0;left: 50%;z-index: -1;}#sk-container-id-17 div.sk-parallel-item {display: flex;flex-direction: column;z-index: 1;position: relative;background-color: white;}#sk-container-id-17 div.sk-parallel-item:first-child::after {align-self: flex-end;width: 50%;}#sk-container-id-17 div.sk-parallel-item:last-child::after {align-self: flex-start;width: 50%;}#sk-container-id-17 div.sk-parallel-item:only-child::after {width: 0;}#sk-container-id-17 div.sk-dashed-wrapped {border: 1px dashed gray;margin: 0 0.4em 0.5em 0.4em;box-sizing: border-box;padding-bottom: 0.4em;background-color: white;}#sk-container-id-17 div.sk-label label {font-family: monospace;font-weight: bold;display: inline-block;line-height: 1.2em;}#sk-container-id-17 div.sk-label-container {text-align: center;}#sk-container-id-17 div.sk-container {/* jupyter's `normalize.less` sets `[hidden] { display: none; }` but bootstrap.min.css set `[hidden] { display: none !important; }` so we also need the `!important` here to be able to override the default hidden behavior on the sphinx rendered scikit-learn.org. See: https://github.com/scikit-learn/scikit-learn/issues/21755 */display: inline-block !important;position: relative;}#sk-container-id-17 div.sk-text-repr-fallback {display: none;}</style><div id=\"sk-container-id-17\" class=\"sk-top-container\"><div class=\"sk-text-repr-fallback\"><pre>SVC(kernel=&#x27;linear&#x27;)</pre><b>In a Jupyter environment, please rerun this cell to show the HTML representation or trust the notebook. <br />On GitHub, the HTML representation is unable to render, please try loading this page with nbviewer.org.</b></div><div class=\"sk-container\" hidden><div class=\"sk-item\"><div class=\"sk-estimator sk-toggleable\"><input class=\"sk-toggleable__control sk-hidden--visually\" id=\"sk-estimator-id-17\" type=\"checkbox\" checked><label for=\"sk-estimator-id-17\" class=\"sk-toggleable__label sk-toggleable__label-arrow\">SVC</label><div class=\"sk-toggleable__content\"><pre>SVC(kernel=&#x27;linear&#x27;)</pre></div></div></div></div></div>"
      ],
      "text/plain": [
       "SVC(kernel='linear')"
      ]
     },
     "execution_count": 167,
     "metadata": {},
     "output_type": "execute_result"
    }
   ],
   "source": [
    "train_mask = (y_train == 4) | (y_train == 6)\n",
    "val_mask = (y_val == 4) | (y_val == 6)\n",
    "test_mask = (y_test == 4) | (y_test == 6)\n",
    "\n",
    "X_train = X_train[train_mask]\n",
    "y_train = y_train[train_mask].map({4: -1, 6: 1})\n",
    "\n",
    "X_val = X_val[val_mask]\n",
    "y_val = y_val[val_mask].map({4: -1, 6: 1})\n",
    "\n",
    "X_test = X_test[test_mask]\n",
    "y_test = y_test[test_mask].map({4: -1, 6: 1})\n",
    "\n",
    "model = SVC(kernel='linear')\n",
    "model.fit(X_train, y_train)"
   ]
  },
  {
   "cell_type": "markdown",
   "metadata": {
    "id": "d_22p1pgPQgC"
   },
   "source": [
    "# Model (50 points)"
   ]
  },
  {
   "cell_type": "markdown",
   "metadata": {
    "id": "GeXst9HHPQgC"
   },
   "source": [
    "Here is soft margin svm convex optimization formulation.\n",
    "$$\n",
    "\\begin{aligned}\n",
    "\\text { Minimize } & \\frac{1}{2}\\|\\mathbf{w}\\|^2+C \\sum_{i=1}^N \\xi_i \\\\\n",
    "\\text { Subject to } & y_i\\left(\\mathbf{w}^T \\mathbf{x}_i+b\\right) \\geq 1-\\xi_i, \\quad i=1,2, \\ldots, N \\\\\n",
    "& \\xi_i \\geq 0, \\quad i=1,2, \\ldots, N\n",
    "\\end{aligned}\n",
    "$$\n",
    "write dual of the soft margin svm optimization problem below:"
   ]
  },
  {
   "cell_type": "markdown",
   "metadata": {
    "id": "_9VD97HA3FJP"
   },
   "source": [
    "To formulate the dual of the soft margin SVM optimization problem, we utilize the concept of Lagrange multipliers. This approach is particularly useful as it converts a constrained optimization problem into an unconstrained one, and also lends itself well to the application of kernel methods in SVMs.\n",
    "\n",
    "### **Primal Problem**:\n",
    "\n",
    "Given the primal formulation:\n",
    "$$\n",
    "\\begin{aligned}\n",
    "\\text { Minimize } & \\quad \\frac{1}{2}\\|\\mathbf{w}\\|^2 + C \\sum_{i=1}^N \\xi_i \\\\\n",
    "\\text { Subject to } & \\quad y_i(\\mathbf{w}^T \\mathbf{x}_i + b) \\geq 1 - \\xi_i, \\quad i = 1, 2, \\ldots, N \\\\\n",
    "& \\quad \\xi_i \\geq 0, \\quad i = 1, 2, \\ldots, N\n",
    "\\end{aligned}\n",
    "$$\n",
    "\n",
    "### **Lagrangian**:\n",
    "\n",
    "To derive the dual, first define the Lagrangian $\\mathcal{L}$ incorporating Lagrange multipliers $\\alpha_i$ for the inequality $y_i(\\mathbf{w}^T \\mathbf{x}_i + b) \\geq 1 - \\xi_i$ and $\\mu_i$ for $(\\xi_i \\geq 0)$.\n",
    "\n",
    "$$\n",
    "\\mathcal{L}(\\mathbf{w}, b, \\xi, \\alpha, \\mu) = \\frac{1}{2}\\|\\mathbf{w}\\|^2 + C \\sum_{i=1}^N \\xi_i - \\sum_{i=1}^N \\alpha_i [y_i(\\mathbf{w}^T \\mathbf{x}_i + b) - 1 + \\xi_i] - \\sum_{i=1}^N \\mu_i \\xi_i\n",
    "$$\n",
    "\n",
    "### **Dual Derivation**:\n",
    "\n",
    "1. **Gradient zero conditions**:\n",
    "\n",
    " Differentiate $\\mathcal{L}$ w.r.t. $\\mathbf{w}$, $b$, and $\\xi_i$ and set the derivatives to zero.\n",
    "   \n",
    "   - $\\mathbf{w}$: $\\mathbf{w} - \\sum_{i=1}^N \\alpha_i y_i \\mathbf{x}_i = 0$ $\\Rightarrow$ $\\mathbf{w} = \\sum_{i=1}^N \\alpha_i y_i \\mathbf{x}_i$\n",
    "\n",
    "   - $b$: $\\sum_{i=1}^N \\alpha_i y_i = 0$\n",
    "\n",
    "   - $\\xi_i$: $C - \\alpha_i - \\mu_i = 0$ $\\Rightarrow$ $\\mu_i = C - \\alpha_i$\n",
    "\n",
    "2. **Substitute back into $\\mathcal{L}$**:\n",
    "\n",
    " Eliminate $\\mathbf{w}$, $b$, and $\\xi_i$ using the conditions derived to express the dual function solely in terms of $\\alpha$.\n",
    "\n",
    "### **Dual Problem**:\n",
    "\n",
    "The dual problem maximizes the dual function derived by substituting the gradient zero conditions back into $\\mathcal{L}$:\n",
    "\n",
    "$$\n",
    "\\begin{aligned}\n",
    "\\text { Maximize } & \\quad \\sum_{i=1}^N \\alpha_i - \\frac{1}{2} \\sum_{i=1}^N \\sum_{j=1}^N \\alpha_i \\alpha_j y_i y_j \\mathbf{x}_i^T \\mathbf{x}_j \\\\\n",
    "\\text { Subject to } & \\quad \\sum_{i=1}^N \\alpha_i y_i = 0 \\\\\n",
    "& \\quad 0 \\leq \\alpha_i \\leq C, \\quad i = 1, 2, \\ldots, N\n",
    "\\end{aligned}\n",
    "$$\n",
    "\n",
    "This maximization is subject to the constraints that the coefficients $\\alpha_i$ are non-negative and do not exceed the penalty parameter $C$, and the sum of the products of $\\alpha_i$ and $y_i$ over all samples must be zero. This dual formulation allows the use of the kernel trick for non-linear classification by replacing the dot product $\\mathbf{x}_i^T \\mathbf{x}_j$ with a kernel function $K(\\mathbf{x}_i, \\mathbf{x}_j)$."
   ]
  },
  {
   "cell_type": "markdown",
   "metadata": {
    "id": "009lTwHMPQgC"
   },
   "source": [
    "Now you should write this optimization problem in standard Quadratic Program (QP) form and use a QP solver to find optimal answer. Here is General form of a QP:\n",
    "$$\n",
    "\\begin{aligned}\n",
    "\\text { Minimize } & \\frac{1}{2} x^TPx + q^Tx + r \\\\\n",
    "\\text { Subject to } & Gx \\leq h \\\\\n",
    "& Ax = b\n",
    "\\end{aligned}\n",
    "$$\n",
    "\n",
    "Complete functions below and use ```cvxopt``` library which is a common library for solving QPs. Note that you can't use ```scikit-learn``` library.\n"
   ]
  },
  {
   "cell_type": "code",
   "execution_count": 168,
   "metadata": {
    "id": "9d5OcA-lPQgC"
   },
   "outputs": [],
   "source": [
    "def soft_margin_svm(X, y, C):\n",
    "    \"\"\"\n",
    "    input:\n",
    "        X: training data\n",
    "        y: training labels\n",
    "        C: errors weight\n",
    "    output:\n",
    "        support_vectros: data points which are SVs of our model.\n",
    "        support_vector_labels: labels of SVs\n",
    "        support_vector_alphas: alpha coefficient of corresponding SVs\n",
    "    \"\"\"\n",
    "\n",
    "    n_samples, n_features = X.shape\n",
    "    K = np.dot(X, X.T) * np.outer(y, y)\n",
    "    P = matrix(K)\n",
    "\n",
    "    q = matrix(-np.ones((n_samples, 1)))\n",
    "    G = matrix(np.vstack((-np.eye(n_samples), np.eye(n_samples))))\n",
    "    h = matrix(np.hstack((np.zeros(n_samples), np.ones(n_samples) * C)))\n",
    "\n",
    "    A = matrix(y, (1, n_samples), 'd')\n",
    "    b = matrix(0.0)\n",
    "\n",
    "    solution = solvers.qp(P, q, G, h, A, b)\n",
    "    alphas = np.array(solution['x']).flatten()\n",
    "\n",
    "    support_vectors = X\n",
    "    support_vector_labels = y\n",
    "    support_vector_alphas = alphas\n",
    "\n",
    "    return support_vectors, support_vector_labels, support_vector_alphas"
   ]
  },
  {
   "cell_type": "code",
   "execution_count": 169,
   "metadata": {
    "colab": {
     "base_uri": "https://localhost:8080/"
    },
    "id": "hWC78gWF80xW",
    "outputId": "193be2f8-bda3-4f46-d6ea-6b97f2218886"
   },
   "outputs": [
    {
     "name": "stdout",
     "output_type": "stream",
     "text": [
      "     pcost       dcost       gap    pres   dres\n",
      " 0: -6.1265e+02 -3.3971e+03  2e+04  3e+00  2e-13\n",
      " 1: -4.1824e+02 -2.2816e+03  3e+03  3e-01  2e-13\n",
      " 2: -3.9732e+02 -7.6474e+02  4e+02  3e-02  1e-13\n",
      " 3: -4.4111e+02 -5.8227e+02  2e+02  9e-03  1e-13\n",
      " 4: -4.6125e+02 -5.3708e+02  8e+01  4e-03  1e-13\n",
      " 5: -4.7293e+02 -5.1305e+02  4e+01  2e-03  1e-13\n",
      " 6: -4.7763e+02 -5.0407e+02  3e+01  1e-03  1e-13\n",
      " 7: -4.8272e+02 -4.9477e+02  1e+01  4e-04  1e-13\n",
      " 8: -4.8534e+02 -4.9054e+02  5e+00  2e-04  1e-13\n",
      " 9: -4.8671e+02 -4.8840e+02  2e+00  4e-05  1e-13\n",
      "10: -4.8718e+02 -4.8773e+02  6e-01  7e-06  1e-13\n",
      "11: -4.8738e+02 -4.8747e+02  9e-02  4e-07  1e-13\n",
      "12: -4.8742e+02 -4.8743e+02  7e-03  3e-08  1e-13\n",
      "13: -4.8742e+02 -4.8742e+02  2e-04  6e-10  2e-13\n",
      "Optimal solution found.\n"
     ]
    }
   ],
   "source": [
    "C = 1\n",
    "support_vectors, support_vector_labels, support_vector_alphas = soft_margin_svm(X_train, y_train, C)"
   ]
  },
  {
   "cell_type": "code",
   "execution_count": 170,
   "metadata": {
    "id": "HhlmT0fwPQgD"
   },
   "outputs": [],
   "source": [
    "def predict_labels(x_test, support_vectors, support_vector_labels, support_vector_alphas):\n",
    "    \"\"\"\n",
    "    input:\n",
    "        x_test: test data\n",
    "        support_vectros: data points which are SVs of our model.\n",
    "        support_vector_labels: labels of SVs\n",
    "        support_vector_alphas: alpha coefficient of corresponding SVs\n",
    "    output:print(f'gamma: {gamma}')\n",
    "        y_pred: predictoin labels\n",
    "    \"\"\"\n",
    "\n",
    "    kernel_product = np.dot(x_test, support_vectors.T)\n",
    "    decision_values = np.dot(kernel_product, support_vector_alphas * support_vector_labels)\n",
    "    y_pred = np.sign(decision_values)\n",
    "    return y_pred"
   ]
  },
  {
   "cell_type": "code",
   "execution_count": 171,
   "metadata": {
    "id": "90Ez6q-nPQgD"
   },
   "outputs": [],
   "source": [
    "y_pred = predict_labels(np.array(X_test), support_vectors, support_vector_labels, support_vector_alphas)"
   ]
  },
  {
   "cell_type": "markdown",
   "metadata": {
    "id": "6B3gVWxLPQgD"
   },
   "source": [
    "# Evaluation (20 points)"
   ]
  },
  {
   "cell_type": "markdown",
   "metadata": {
    "id": "_4G1m29TPQgE"
   },
   "source": [
    "Compute accuracy, balanced accuracy and plot confusion matrix of your trained model using ```Seaborn.heatmap()``` function. Use case of balanced accuracy is when dealing with imbalanced data, i.e. when one of the target classes appears a lot more than the other and it is defined by average of recall of classes. Confusion matrix is a $k\\times k$ (k is number of classes) matrix which cell ij is showing that number of data points labeld i which predicted j. For more detail of evaluation metrics you can see [here](https://neptune.ai/blog/balanced-accuracy).\n",
    "\n",
    "You may use ```scikit-learn``` library to compute these metrics."
   ]
  },
  {
   "cell_type": "code",
   "execution_count": 172,
   "metadata": {
    "colab": {
     "base_uri": "https://localhost:8080/"
    },
    "id": "rOMO_QHzPQgE",
    "outputId": "2ea81f93-7fdd-4e99-9945-c3ae4cc0c584"
   },
   "outputs": [
    {
     "name": "stdout",
     "output_type": "stream",
     "text": [
      "Accuracy:  0.8252788104089219\n",
      "Balanced Accuracy:  0.7639855133496167\n",
      "Confusion Matrix:\n",
      " [[ 96  59]\n",
      " [ 35 348]]\n"
     ]
    }
   ],
   "source": [
    "def evaluate(y_test, y_pred):\n",
    "    \"\"\"\n",
    "    input:\n",
    "        y_test: true labels\n",
    "        y_pred: predicted labels\n",
    "    output:\n",
    "        accuracy: accuracy of the model\n",
    "        balanced_accuracy: balanced accuracy of the model\n",
    "        confusion_matrix: confusion matrix of the model\n",
    "    \"\"\"\n",
    "\n",
    "    accuracy = accuracy_score(y_test, y_pred)\n",
    "    balanced_accuracy = balanced_accuracy_score(y_test, y_pred)\n",
    "    confusion_mat = confusion_matrix(y_test, y_pred)\n",
    "\n",
    "    print(\"Accuracy: \", accuracy)\n",
    "    print(\"Balanced Accuracy: \", balanced_accuracy)\n",
    "    print(\"Confusion Matrix:\\n\", confusion_mat)\n",
    "    return accuracy, balanced_accuracy, confusion_mat\n",
    "\n",
    "\n",
    "_, _, confusion_mat = evaluate(y_test, y_pred)"
   ]
  },
  {
   "cell_type": "code",
   "execution_count": 173,
   "metadata": {
    "colab": {
     "base_uri": "https://localhost:8080/",
     "height": 447
    },
    "id": "9D8tOmclPQgE",
    "outputId": "6acfbc06-0567-442b-bead-7e3865b5e03e"
   },
   "outputs": [
    {
     "data": {
      "text/plain": [
       "<Axes: >"
      ]
     },
     "execution_count": 173,
     "metadata": {},
     "output_type": "execute_result"
    },
    {
     "data": {
      "image/png": "[encoded data removed]",
      "text/plain": [
       "<Figure size 640x480 with 2 Axes>"
      ]
     },
     "metadata": {},
     "output_type": "display_data"
    }
   ],
   "source": [
    "cm_matrix = pd.DataFrame(data=confusion_mat, columns=['Predict Negative:-1', 'Predict Positive:1'],\n",
    "                                 index=['Actual Negative:-1', 'Actual Positive:1'])\n",
    "\n",
    "sns.heatmap(cm_matrix, annot=True, fmt='d', cmap='mako')"
   ]
  },
  {
   "cell_type": "markdown",
   "metadata": {
    "id": "0Gb86NLLPQgE"
   },
   "source": [
    "# Fine-tunning (40 points)"
   ]
  },
  {
   "cell_type": "markdown",
   "metadata": {
    "id": "1LhZmHaoPQgF"
   },
   "source": [
    "like what you did before, implement Soft Margin SVM but now use rbf kernel. To determine rbf $\\gamma$ parameter use validation datas and find best(best by balanced accuracy) $\\gamma$ between 0.001 , 0.01, 1, 10, 100. Not that you can't use ```scikit-learn``` library here."
   ]
  },
  {
   "cell_type": "code",
   "execution_count": 174,
   "metadata": {
    "id": "z5ZzkbfDPQgF"
   },
   "outputs": [],
   "source": [
    "def rbf(x1, x2, gamma=1):\n",
    "    \"\"\"\n",
    "    input:\n",
    "        x1: first vector\n",
    "        x2: second vector\n",
    "        gamma: rbf kernel parameter with defalt value 1.\n",
    "    output:\n",
    "        ouput: computed rbf of two input vectors\n",
    "    \"\"\"\n",
    "    distance_squared = np.sum((x1 - x2)**2)\n",
    "    output = np.exp(-gamma * distance_squared)\n",
    "    return output\n",
    "\n",
    "def soft_margin_svm(X, y, C, gamma=1):\n",
    "    \"\"\"\n",
    "    input:\n",
    "        X: training data\n",
    "        y: training labels\n",
    "        C: errors weight\n",
    "        gamma: rbf kernel parameter with defalt value 1.\n",
    "    output:\n",
    "        support_vectros: data points which are SVs of our model.\n",
    "        support_vector_labels: labels of SVs\n",
    "        support_vector_alphas: alpha coefficient of corresponding SVs\n",
    "    \"\"\"\n",
    "\n",
    "    n_samples, n_features = X.shape\n",
    "    K = np.zeros((n_samples, n_samples))\n",
    "\n",
    "    for i in range(n_samples):\n",
    "        for j in range(n_samples):\n",
    "            K[i, j] = rbf(X[i], X[j], gamma)\n",
    "\n",
    "    P = matrix(np.outer(y, y) * K)\n",
    "    q = matrix(-np.ones((n_samples, 1)))\n",
    "    G = matrix(np.vstack((-np.eye(n_samples), np.eye(n_samples))))\n",
    "    h = matrix(np.hstack((np.zeros(n_samples), np.ones(n_samples) * C)))\n",
    "    A = matrix(y, (1, n_samples), 'd')\n",
    "    b = matrix(0.0)\n",
    "\n",
    "    solution = solvers.qp(P, q, G, h, A, b)\n",
    "    alphas = np.array(solution['x']).flatten()\n",
    "    support_vectors = X\n",
    "    support_vector_labels = y\n",
    "    support_vector_alphas = alphas\n",
    "\n",
    "    return support_vectors, support_vector_labels, support_vector_alphas"
   ]
  },
  {
   "cell_type": "code",
   "execution_count": 175,
   "metadata": {
    "colab": {
     "base_uri": "https://localhost:8080/"
    },
    "id": "I_tH_heoPQgF",
    "outputId": "ad567c84-e8b8-40b2-f279-d38ce0c37333"
   },
   "outputs": [
    {
     "name": "stdout",
     "output_type": "stream",
     "text": [
      "gamma = 0.01\n",
      "     pcost       dcost       gap    pres   dres\n",
      " 0: -1.5833e+02 -7.2035e+02  3e+03  2e+00  5e-15\n",
      " 1: -1.1278e+02 -4.4552e+02  4e+02  1e-01  4e-15\n",
      " 2: -1.2405e+02 -1.7900e+02  6e+01  2e-02  4e-15\n",
      " 3: -1.3712e+02 -1.5472e+02  2e+01  4e-03  5e-15\n",
      " 4: -1.4177e+02 -1.4733e+02  6e+00  9e-04  5e-15\n",
      " 5: -1.4328e+02 -1.4513e+02  2e+00  2e-04  5e-15\n",
      " 6: -1.4385e+02 -1.4435e+02  5e-01  5e-05  6e-15\n",
      " 7: -1.4405e+02 -1.4408e+02  2e-02  1e-06  6e-15\n",
      " 8: -1.4406e+02 -1.4406e+02  6e-04  3e-08  6e-15\n",
      " 9: -1.4406e+02 -1.4406e+02  2e-05  8e-10  6e-15\n",
      "Optimal solution found.\n",
      "Accuracy:  0.8066914498141264\n",
      "Balanced Accuracy:  0.7125242146045649\n",
      "Confusion Matrix:\n",
      " [[ 76  79]\n",
      " [ 25 358]]\n",
      "\n",
      "gamma = 0.1\n",
      "     pcost       dcost       gap    pres   dres\n",
      " 0: -9.4677e+01 -6.5677e+02  3e+03  2e+00  2e-15\n",
      " 1: -7.4100e+01 -3.7439e+02  3e+02  7e-02  2e-15\n",
      " 2: -8.1270e+01 -1.3766e+02  6e+01  1e-02  2e-15\n",
      " 3: -9.1058e+01 -1.0314e+02  1e+01  2e-03  2e-15\n",
      " 4: -9.4084e+01 -9.7232e+01  3e+00  3e-04  2e-15\n",
      " 5: -9.5027e+01 -9.5656e+01  6e-01  5e-16  2e-15\n",
      " 6: -9.5261e+01 -9.5312e+01  5e-02  6e-16  2e-15\n",
      " 7: -9.5282e+01 -9.5283e+01  1e-03  2e-15  2e-15\n",
      " 8: -9.5282e+01 -9.5282e+01  4e-05  2e-15  2e-15\n",
      "Optimal solution found.\n",
      "Accuracy:  0.8066914498141264\n",
      "Balanced Accuracy:  0.7048429209129958\n",
      "Confusion Matrix:\n",
      " [[ 72  83]\n",
      " [ 21 362]]\n",
      "\n",
      "gamma = 1\n",
      "     pcost       dcost       gap    pres   dres\n",
      " 0: -7.3855e+01 -5.8621e+02  2e+03  2e+00  7e-16\n",
      " 1: -6.8094e+01 -3.1709e+02  2e+02  2e-15  4e-16\n",
      " 2: -7.5995e+01 -1.0430e+02  3e+01  4e-15  4e-16\n",
      " 3: -7.9848e+01 -8.2836e+01  3e+00  1e-15  2e-16\n",
      " 4: -8.0387e+01 -8.0812e+01  4e-01  1e-15  2e-16\n",
      " 5: -8.0483e+01 -8.0515e+01  3e-02  6e-16  2e-16\n",
      " 6: -8.0492e+01 -8.0494e+01  2e-03  1e-15  2e-16\n",
      " 7: -8.0493e+01 -8.0493e+01  9e-05  3e-15  2e-16\n",
      " 8: -8.0493e+01 -8.0493e+01  3e-06  9e-16  2e-16\n",
      "Optimal solution found.\n",
      "Accuracy:  0.8104089219330854\n",
      "Balanced Accuracy:  0.7439400320053904\n",
      "Confusion Matrix:\n",
      " [[ 91  64]\n",
      " [ 38 345]]\n",
      "\n",
      "gamma = 10\n",
      "     pcost       dcost       gap    pres   dres\n",
      " 0: -1.2661e+02 -5.5457e+02  4e+02  2e-14  4e-16\n",
      " 1: -1.2941e+02 -1.4179e+02  1e+01  1e-14  3e-16\n",
      " 2: -1.3203e+02 -1.3218e+02  2e-01  5e-15  1e-16\n",
      " 3: -1.3206e+02 -1.3207e+02  2e-03  2e-16  1e-16\n",
      " 4: -1.3207e+02 -1.3207e+02  2e-05  7e-16  1e-16\n",
      "Optimal solution found.\n",
      "Accuracy:  0.8104089219330854\n",
      "Balanced Accuracy:  0.7439400320053904\n",
      "Confusion Matrix:\n",
      " [[ 91  64]\n",
      " [ 38 345]]\n",
      "\n",
      "gamma = 100\n",
      "     pcost       dcost       gap    pres   dres\n",
      " 0: -1.2662e+02 -5.5458e+02  4e+02  2e-13  3e-16\n",
      " 1: -1.2941e+02 -1.4178e+02  1e+01  1e-14  2e-16\n",
      " 2: -1.3203e+02 -1.3219e+02  2e-01  5e-15  1e-16\n",
      " 3: -1.3207e+02 -1.3207e+02  2e-03  1e-14  2e-16\n",
      " 4: -1.3207e+02 -1.3207e+02  2e-05  1e-14  3e-17\n",
      "Optimal solution found.\n",
      "Accuracy:  0.8104089219330854\n",
      "Balanced Accuracy:  0.7439400320053904\n",
      "Confusion Matrix:\n",
      " [[ 91  64]\n",
      " [ 38 345]]\n",
      "\n",
      "best gamma: 1\n"
     ]
    }
   ],
   "source": [
    "gammas = [0.01, 0.1, 1, 10, 100]\n",
    "best_gamma = None\n",
    "best_support_vectors = None\n",
    "best_support_vector_labels = None\n",
    "best_support_vector_alphas = None\n",
    "best_acc = None\n",
    "\n",
    "for gamma in gammas:\n",
    "    print(f'gamma = {gamma}')\n",
    "    support_vectors, support_vector_labels, support_vector_alphas = soft_margin_svm(X_val, y_val, C=1.0, gamma=gamma)\n",
    "    y_pred = predict_labels(np.array(X_test), support_vectors, support_vector_labels, support_vector_alphas)\n",
    "    acc, balanced_acc, cm = evaluate(y_test, y_pred)\n",
    "    if best_acc is None or balanced_acc > best_acc:\n",
    "        best_acc = balanced_acc\n",
    "        best_support_vectors = support_vectors\n",
    "        best_support_vector_labels = support_vector_labels\n",
    "        best_support_vector_alphas = support_vector_alphas\n",
    "        best_gamma = gamma\n",
    "    print()\n",
    "\n",
    "print(f'best gamma: {best_gamma}')"
   ]
  },
  {
   "cell_type": "code",
   "execution_count": 176,
   "metadata": {
    "colab": {
     "base_uri": "https://localhost:8080/"
    },
    "id": "evHTkgJpPQgF",
    "outputId": "ad583892-2e43-4c3a-a929-f812a2583f95"
   },
   "outputs": [
    {
     "name": "stdout",
     "output_type": "stream",
     "text": [
      "Accuracy:  0.8104089219330854\n",
      "Balanced Accuracy:  0.7439400320053904\n",
      "Confusion Matrix:\n",
      " [[ 91  64]\n",
      " [ 38 345]]\n"
     ]
    }
   ],
   "source": [
    "y_pred = predict_labels(np.array(X_test), best_support_vectors, best_support_vector_labels, best_support_vector_alphas)\n",
    "_, _, confusion_mat = evaluate(y_test, y_pred)"
   ]
  },
  {
   "cell_type": "code",
   "execution_count": 177,
   "metadata": {
    "colab": {
     "base_uri": "https://localhost:8080/",
     "height": 447
    },
    "id": "M6Fd89BHRTdR",
    "outputId": "0e45b841-56e1-4c41-cf1e-5b9822f40d12"
   },
   "outputs": [
    {
     "data": {
      "text/plain": [
       "<Axes: >"
      ]
     },
     "execution_count": 177,
     "metadata": {},
     "output_type": "execute_result"
    },
    {
     "data": {
      "image/png": "[encoded data removed]",
      "text/plain": [
       "<Figure size 640x480 with 2 Axes>"
      ]
     },
     "metadata": {},
     "output_type": "display_data"
    }
   ],
   "source": [
    "cm_matrix = pd.DataFrame(data=confusion_mat, columns=['Predict Negative:-1', 'Predict Positive:1'],\n",
    "                                 index=['Actual Negative:-1', 'Actual Positive:1'])\n",
    "\n",
    "sns.heatmap(cm_matrix, annot=True, fmt='d', cmap='mako')"
   ]
  },
  {
   "cell_type": "markdown",
   "metadata": {
    "id": "xaG2sWYjPQgF"
   },
   "source": [
    "# Multiclass SVM (30 points + 50 points optional)"
   ]
  },
  {
   "cell_type": "markdown",
   "metadata": {
    "id": "6H7iG5ezPQgF"
   },
   "source": [
    "Now we want implement Multiclass SVM. Use ```SVC``` function with rbf kernel from ```scikit-learn``` package on all train datas (all six classes) and choose best hyperparameters for $C$ and $\\gamma$ between 0.01, 0.1, 1, 10, 100. After that evaluate it with your function.\n",
    "\n",
    "Note that in this example we had enough data to split them in train and validation but in case that we don't have enough data, ```scikit-learn``` has a built-in fast library named ```GridSearchCV()``` which can help us in hyperparameter tunning with cross validation."
   ]
  },
  {
   "cell_type": "code",
   "execution_count": 178,
   "metadata": {
    "colab": {
     "base_uri": "https://localhost:8080/"
    },
    "id": "vFiAUJwwPQgF",
    "outputId": "25701304-4fb7-4332-ba99-a1b44c3a0cab"
   },
   "outputs": [
    {
     "name": "stdout",
     "output_type": "stream",
     "text": [
      "best C and gamma are: {'C': 100, 'gamma': 0.1, 'kernel': 'rbf'}\n",
      "best score:  0.8996732127851608\n"
     ]
    }
   ],
   "source": [
    "Cs = [0.01, 0.1, 1, 10, 100]\n",
    "gammas = [0.01, 0.1, 1, 10, 100]\n",
    "\n",
    "grid_params = {\n",
    "    'C': Cs,\n",
    "    'gamma': gammas,\n",
    "    'kernel': ['rbf']\n",
    "}\n",
    "\n",
    "grid_search = GridSearchCV(SVC(), grid_params, cv=5)\n",
    "grid_search.fit(X_train, y_train)\n",
    "\n",
    "print(\"best C and gamma are:\", grid_search.best_params_)\n",
    "print(\"best score: \", grid_search.best_score_)\n",
    "\n",
    "model = grid_search.best_estimator_"
   ]
  },
  {
   "cell_type": "markdown",
   "metadata": {
    "id": "LO2_hZsPPQgF"
   },
   "source": [
    "Implement Multiclass SVM from scratch without using ready functions (optional)."
   ]
  },
  {
   "cell_type": "code",
   "execution_count": 179,
   "metadata": {
    "id": "mVLAPZmzPQgF"
   },
   "outputs": [],
   "source": [
    "def rbf(x1, x2, gamma=1):\n",
    "    \"\"\"\n",
    "    input:\n",
    "        x1: first vector\n",
    "        x2: second vector\n",
    "        gamma: rbf kernel parameter with defalt value 1.\n",
    "    output:\n",
    "        ouput: computed rbf of two input vectors\n",
    "    \"\"\"\n",
    "    distance_squared = np.sum((x1 - x2)**2)\n",
    "    output = np.exp(-gamma * distance_squared)\n",
    "    return output\n",
    "\n",
    "\n",
    "def soft_margin_svm(X, y, C, gamma=1):\n",
    "    \"\"\"\n",
    "    input:\n",
    "        X: training data\n",
    "        y: training labels\n",
    "        C: errors weight\n",
    "        gamma: rbf kernel parameter with defalt value 1.\n",
    "    output:\n",
    "        support_vectros: data points which are SVs of our model.\n",
    "        support_vector_labels: labels of SVs\n",
    "        support_vector_alphas: alpha coefficient of corresponding SVs\n",
    "    \"\"\"\n",
    "\n",
    "    n_samples, n_features = X.shape\n",
    "    K = np.zeros((n_samples, n_samples))\n",
    "\n",
    "    for i in range(n_samples):\n",
    "        for j in range(n_samples):\n",
    "            K[i, j] = rbf(X[i], X[j], gamma)\n",
    "\n",
    "    P = matrix(np.outer(y, y) * K)\n",
    "    q = matrix(-np.ones((n_samples, 1)))\n",
    "    G = matrix(np.vstack((-np.eye(n_samples), np.eye(n_samples))))\n",
    "    h = matrix(np.hstack((np.zeros(n_samples), np.ones(n_samples) * C)))\n",
    "    A = matrix(y, (1, n_samples), 'd')\n",
    "    b = matrix(0.0)\n",
    "\n",
    "    solution = solvers.qp(P, q, G, h, A, b)\n",
    "    alphas = np.array(solution['x']).flatten()\n",
    "    support_vectors = X\n",
    "    support_vector_labels = y\n",
    "    support_vector_alphas = alphas\n",
    "\n",
    "    return support_vectors, support_vector_labels, support_vector_alphas\n",
    "\n",
    "\n",
    "def svm_multiclass_one_vs_rest(X, y, C, gamma):\n",
    "    \"\"\"\n",
    "    input:\n",
    "        X: training data\n",
    "        y: training labels\n",
    "        C: errors weight\n",
    "        gamma: rbf kernel parameter with defalt value 1.\n",
    "    output:\n",
    "        classifiers: A list of tuples containing support vectors, their labels, and alphas for each class.\n",
    "    \"\"\"\n",
    "    classes = np.unique(y)\n",
    "    classifiers = []\n",
    "    for c in classes:\n",
    "        y_binary = np.where(y == c, 1, -1)\n",
    "        support_vectors, support_vector_labels, support_vector_alphas = soft_margin_svm(X, y_binary, C, gamma)\n",
    "        classifiers.append((support_vectors, support_vector_labels, support_vector_alphas, c))\n",
    "    return classifiers\n",
    "\n",
    "def predict(x_test, classifiers):\n",
    "    \"\"\"\n",
    "    input:\n",
    "        x_test: test data\n",
    "        classifiers: List of classifiers (support_vectors, support_vector_labels, support_vector_alphas, class_label).\n",
    "    output:\n",
    "        predictions: Predicted labels for x_test.\n",
    "    \"\"\"\n",
    "    predictions = np.zeros((len(X), len(classifiers)))\n",
    "\n",
    "    for idx, (sv, sv_labels, sv_alphas, class_label) in enumerate(classifiers):\n",
    "        for i in range(len(X)):\n",
    "            k = np.array([rbf(X[i], sv_j) for sv_j in sv])\n",
    "            decision_value = np.sum(sv_alphas * sv_labels * k)\n",
    "            predictions[i, idx] = decision_value\n",
    "\n",
    "    predicted_class_indices = np.argmax(predictions, axis=1)\n",
    "    predicted_classes = [classifiers[idx][3] for idx in predicted_class_indices]\n",
    "    return predicted_classes\n",
    "\n",
    "def evaluate(y_test, y_pred):\n",
    "    \"\"\"\n",
    "    input:\n",
    "        y_test: true labels\n",
    "        y_pred: predicted labels\n",
    "    output:\n",
    "        accuracy: accuracy of the model\n",
    "        balanced_accuracy: balanced accuracy of the model\n",
    "        confusion_matrix: confusion matrix of the model\n",
    "    \"\"\"\n",
    "\n",
    "    accuracy = accuracy_score(y_test, y_pred)\n",
    "    balanced_accuracy = balanced_accuracy_score(y_test, y_pred)\n",
    "    confusion_mat = confusion_matrix(y_test, y_pred)\n",
    "\n",
    "    print(\"Accuracy: \", accuracy)\n",
    "    print(\"Balanced Accuracy: \", balanced_accuracy)\n",
    "    print(\"Confusion Matrix:\\n\", confusion_mat)\n",
    "    return accuracy, balanced_accuracy, confusion_mat\n"
   ]
  },
  {
   "cell_type": "markdown",
   "metadata": {
    "id": "79ch2OB-PQgF"
   },
   "source": [
    "# Different SVM Kernels (40 points)"
   ]
  },
  {
   "cell_type": "markdown",
   "metadata": {
    "id": "ZY012exWPQgG"
   },
   "source": [
    "A kernel in SVM is like a tool that helps solve tricky problems. It lets us work in a space with many dimensions, making complex calculations easier. With kernels, we can deal with lots of dimensions, even an endless amount. Kernels are crucial for sorting data into groups and help spot patterns in the data we're looking at. They're especially good at tackling twisty problems with a straightforward approach.\n",
    "\n",
    "Sometimes, finding a straight line or flat surface to divide data isn't possible, especially as we explore more dimensions. That's where different types of SVM kernels come in handy. They transform twisty, complicated data into a simpler form that's easier to separate. In this explanation, we talk about 4 popular types of these kernels. Also in following cells you can use any package.\n",
    "\n",
    "<img src=\"./kernel.jpg\" alt=\"Types of Kernel Functions\"  align=center class=\"saturate\">"
   ]
  },
  {
   "cell_type": "markdown",
   "metadata": {
    "id": "Pu7rhfchPQgG"
   },
   "source": [
    "### Linear Kernel"
   ]
  },
  {
   "cell_type": "markdown",
   "metadata": {
    "id": "iLV-tcB-PQgG"
   },
   "source": [
    "This is the simplest kind of kernel, typically working in one dimension. It works best when dealing with a lot of features. Linear kernels are quicker than other types.\n",
    "\n",
    "**Formula:**\n",
    "\n",
    "$$F(x, x_j) = sum(x, x_j)$$\n",
    "\n",
    "Now Implement svc classifier using a linear kernel. Get the prediction and evaluate it by function which you implemented before. Also plot confusion matrix by `Seaborn`."
   ]
  },
  {
   "cell_type": "code",
   "execution_count": 184,
   "metadata": {
    "colab": {
     "base_uri": "https://localhost:8080/"
    },
    "id": "1vTPwBXDPQgJ",
    "outputId": "9297004e-0f7e-4e7f-ec1d-2af1de7a1f16"
   },
   "outputs": [
    {
     "name": "stdout",
     "output_type": "stream",
     "text": [
      "Accuracy (Linear): 0.8513011152416357\n",
      "Balanced Accuracy (Linear): 0.820668744209551\n",
      "Confusion Matrix (Linear):\n",
      " [[116  39]\n",
      " [ 41 342]]\n"
     ]
    }
   ],
   "source": [
    "svc_linear = SVC(kernel='linear')\n",
    "svc_linear.fit(X_train, y_train)\n",
    "y_pred_linear = svc_linear.predict(X_test)\n",
    "\n",
    "acc = accuracy_score(y_test, y_pred_linear)\n",
    "balanced_acc = balanced_accuracy_score(y_test, y_pred_linear)\n",
    "cm = confusion_matrix(y_test, y_pred_linear)\n",
    "\n",
    "print(f\"Accuracy (Linear): {acc}\")\n",
    "print(f\"Balanced Accuracy (Linear): {balanced_acc}\")\n",
    "print(\"Confusion Matrix (Linear):\\n\", cm)"
   ]
  },
  {
   "cell_type": "code",
   "execution_count": 185,
   "metadata": {
    "colab": {
     "base_uri": "https://localhost:8080/",
     "height": 447
    },
    "id": "bjUb6cXNMU5H",
    "outputId": "b58e734a-49e5-47f7-b430-b5bf9efc6824"
   },
   "outputs": [
    {
     "data": {
      "text/plain": [
       "<Axes: >"
      ]
     },
     "execution_count": 185,
     "metadata": {},
     "output_type": "execute_result"
    },
    {
     "data": {
      "image/png": "[encoded data removed]",
      "text/plain": [
       "<Figure size 640x480 with 2 Axes>"
      ]
     },
     "metadata": {},
     "output_type": "display_data"
    }
   ],
   "source": [
    "cm_matrix = pd.DataFrame(data=cm, columns=['Predict Negative:-1', 'Predict Positive:1'],\n",
    "                                 index=['Actual Negative:-1', 'Actual Positive:1'])\n",
    "\n",
    "sns.heatmap(cm_matrix, annot=True, fmt='d', cmap='mako')"
   ]
  },
  {
   "cell_type": "markdown",
   "metadata": {
    "id": "BuweHjJKPQgJ"
   },
   "source": [
    "### Gaussian RBF kernel"
   ]
  },
  {
   "cell_type": "markdown",
   "metadata": {
    "id": "571BvzppPQgJ"
   },
   "source": [
    "This kernel is a favorite choice in SVM, especially for data that doesn't line up straight. It's great for sorting data when you don't know much about it beforehand.\n",
    "\n",
    "**Formula:**\n",
    "\n",
    "$$F(x, x_j) = \\exp{(-\\gamma ||x - xj||^2)}$$\n",
    "\n",
    "Now, configure the SVC classifier with a sigmoid kernel. Get the prediction and evaluate it by function which you implemented before. Also plot confusion matrix as previous part."
   ]
  },
  {
   "cell_type": "code",
   "execution_count": 192,
   "metadata": {
    "colab": {
     "base_uri": "https://localhost:8080/"
    },
    "id": "7iTdUzFHPQgJ",
    "outputId": "ab90ebf2-0415-4a80-a4d7-5be490e272b1"
   },
   "outputs": [
    {
     "name": "stdout",
     "output_type": "stream",
     "text": [
      "Accuracy (RBF): 0.8754646840148699\n",
      "Balanced Accuracy (RBF): 0.8683651983491956\n",
      "Confusion Matrix (RBF):\n",
      " [[132  23]\n",
      " [ 44 339]]\n"
     ]
    }
   ],
   "source": [
    "svc_rbf = SVC(kernel='rbf', gamma='scale')\n",
    "svc_rbf.fit(X_train, y_train)\n",
    "y_pred_rbf = svc_rbf.predict(X_test)\n",
    "\n",
    "acc = accuracy_score(y_test, y_pred_rbf)\n",
    "balanced_acc = balanced_accuracy_score(y_test, y_pred_rbf)\n",
    "cm = confusion_matrix(y_test, y_pred_rbf)\n",
    "\n",
    "print(f\"Accuracy (RBF): {acc}\")\n",
    "print(f\"Balanced Accuracy (RBF): {balanced_acc}\")\n",
    "print(\"Confusion Matrix (RBF):\\n\", cm)"
   ]
  },
  {
   "cell_type": "code",
   "execution_count": 193,
   "metadata": {
    "colab": {
     "base_uri": "https://localhost:8080/",
     "height": 447
    },
    "id": "-OMM-4gJM2Y3",
    "outputId": "5664f774-8019-45f8-f228-824ce5303a07"
   },
   "outputs": [
    {
     "data": {
      "text/plain": [
       "<Axes: >"
      ]
     },
     "execution_count": 193,
     "metadata": {},
     "output_type": "execute_result"
    },
    {
     "data": {
      "image/png": "[encoded data removed]",
      "text/plain": [
       "<Figure size 640x480 with 2 Axes>"
      ]
     },
     "metadata": {},
     "output_type": "display_data"
    }
   ],
   "source": [
    "cm_matrix = pd.DataFrame(data=cm, columns=['Predict Negative:-1', 'Predict Positive:1'],\n",
    "                                 index=['Actual Negative:-1', 'Actual Positive:1'])\n",
    "\n",
    "sns.heatmap(cm_matrix, annot=True, fmt='d', cmap='mako')"
   ]
  },
  {
   "cell_type": "markdown",
   "metadata": {
    "id": "b6Ig0LPnPQgK"
   },
   "source": [
    "### Polynomial Kernel"
   ]
  },
  {
   "cell_type": "markdown",
   "metadata": {
    "id": "cXs12uJIPQgK"
   },
   "source": [
    "This is a broader version of the linear kernel. It's not as popular because it's not as quick or precise.\n",
    "\n",
    "**Formula:**\n",
    "\n",
    "$$F(x, x_j) = (x.x_j+1)^d$$\n",
    "\n",
    "Now, set up the SVC classifier using a *polynomial* kernel. Get the prediction and evaluate it by function which you implemented before. Also plot confusion matrix as previous parts."
   ]
  },
  {
   "cell_type": "code",
   "execution_count": 197,
   "metadata": {
    "colab": {
     "base_uri": "https://localhost:8080/"
    },
    "id": "4cHPPfXLPQgK",
    "outputId": "af55641e-ce83-45da-b6ec-73c89e63efb4"
   },
   "outputs": [
    {
     "name": "stdout",
     "output_type": "stream",
     "text": [
      "Accuracy (Poly): 0.8605947955390335\n",
      "Balanced Accuracy (Poly): 0.8656026278109998\n",
      "Confusion Matrix (Poly):\n",
      " [[136  19]\n",
      " [ 56 327]]\n"
     ]
    }
   ],
   "source": [
    "svc_poly = SVC(kernel='poly', degree=3)\n",
    "svc_poly.fit(X_train, y_train)\n",
    "y_pred_poly = svc_poly.predict(X_test)\n",
    "\n",
    "acc = accuracy_score(y_test, y_pred_poly)\n",
    "balanced_acc = balanced_accuracy_score(y_test, y_pred_poly)\n",
    "cm = confusion_matrix(y_test, y_pred_poly)\n",
    "\n",
    "print(f\"Accuracy (Poly): {acc}\")\n",
    "print(f\"Balanced Accuracy (Poly): {balanced_acc}\")\n",
    "print(\"Confusion Matrix (Poly):\\n\", cm)"
   ]
  },
  {
   "cell_type": "code",
   "execution_count": 198,
   "metadata": {
    "colab": {
     "base_uri": "https://localhost:8080/",
     "height": 447
    },
    "id": "m3ScKBp-NUBy",
    "outputId": "81061eee-4734-4631-9354-be58c36afd72"
   },
   "outputs": [
    {
     "data": {
      "text/plain": [
       "<Axes: >"
      ]
     },
     "execution_count": 198,
     "metadata": {},
     "output_type": "execute_result"
    },
    {
     "data": {
      "image/png": "[encoded data removed]",
      "text/plain": [
       "<Figure size 640x480 with 2 Axes>"
      ]
     },
     "metadata": {},
     "output_type": "display_data"
    }
   ],
   "source": [
    "cm_matrix = pd.DataFrame(data=cm, columns=['Predict Negative:-1', 'Predict Positive:1'],\n",
    "                                 index=['Actual Negative:-1', 'Actual Positive:1'])\n",
    "\n",
    "sns.heatmap(cm_matrix, annot=True, fmt='d', cmap='mako')"
   ]
  },
  {
   "cell_type": "markdown",
   "metadata": {
    "id": "tgSSDsAAPQgK"
   },
   "source": [
    "### Sigmoid Kernel"
   ]
  },
  {
   "cell_type": "markdown",
   "metadata": {
    "id": "nba7kUI2PQgK"
   },
   "source": [
    "This is mainly chosen for use with neural networks. The kernel function acts like the activation function in a two-layer perceptron neural network model, helping to activate the neurons.\n",
    "\n",
    "**Formula:**\n",
    "\n",
    "$$F(x, x_j) = \\tanh(α x a y + c)$$\n",
    "\n",
    "Now, configure the SVC classifier with a sigmoid kernel. Get the prediction and evaluate it by function which you implemented before. Also plot confusion matrix as previous parts."
   ]
  },
  {
   "cell_type": "code",
   "execution_count": 202,
   "metadata": {
    "colab": {
     "base_uri": "https://localhost:8080/"
    },
    "id": "1q53B4wMPQgK",
    "outputId": "4af3de5c-06da-4c17-a2bc-55a52c824a21"
   },
   "outputs": [
    {
     "name": "stdout",
     "output_type": "stream",
     "text": [
      "Accuracy (Sigmoid): 0.7242424242424242\n",
      "Balanced Accuracy (Sigmoid): 0.6766933287950987\n",
      "Confusion Matrix (Sigmoid):\n",
      " [[ 57  47]\n",
      " [ 44 182]]\n"
     ]
    }
   ],
   "source": [
    "svc_sigmoid = SVC(kernel='sigmoid', gamma='auto')\n",
    "svc_sigmoid.fit(X_train, y_train)\n",
    "y_pred_sigmoid = svc_sigmoid.predict(X_val)\n",
    "\n",
    "acc = accuracy_score(y_val, y_pred_sigmoid)\n",
    "balanced_acc = balanced_accuracy_score(y_val, y_pred_sigmoid)\n",
    "cm = confusion_matrix(y_val, y_pred_sigmoid)\n",
    "\n",
    "print(f\"Accuracy (Sigmoid): {acc}\")\n",
    "print(f\"Balanced Accuracy (Sigmoid): {balanced_acc}\")\n",
    "print(\"Confusion Matrix (Sigmoid):\\n\", cm)"
   ]
  },
  {
   "cell_type": "code",
   "execution_count": 203,
   "metadata": {
    "colab": {
     "base_uri": "https://localhost:8080/",
     "height": 447
    },
    "id": "UeOSJSx3N6FW",
    "outputId": "3aed125e-daaa-4b41-89a0-c03260a86517"
   },
   "outputs": [
    {
     "data": {
      "text/plain": [
       "<Axes: >"
      ]
     },
     "execution_count": 203,
     "metadata": {},
     "output_type": "execute_result"
    },
    {
     "data": {
      "image/png": "[encoded data removed]",
      "text/plain": [
       "<Figure size 640x480 with 2 Axes>"
      ]
     },
     "metadata": {},
     "output_type": "display_data"
    }
   ],
   "source": [
    "cm_matrix = pd.DataFrame(data=cm, columns=['Predict Negative:-1', 'Predict Positive:1'],\n",
    "                                 index=['Actual Negative:-1', 'Actual Positive:1'])\n",
    "\n",
    "sns.heatmap(cm_matrix, annot=True, fmt='d', cmap='mako')"
   ]
  },
  {
   "cell_type": "markdown",
   "metadata": {
    "id": "8oqv-gRSPQgK"
   },
   "source": [
    "Compare these four kernel functions with each other. What are the main advantages and disadvantages of each one?"
   ]
  },
  {
   "cell_type": "markdown",
   "metadata": {
    "id": "vu3M8NfgPQgK"
   },
   "source": [
    "## **Linear**\n",
    "- **Advantages:**\n",
    "  - **Simplicity and Speed:** Linear kernels are the fastest to compute among the kernels because they do not involve any additional computation or parameter tuning (except for `C`). They are best when the data is already linearly separable.\n",
    "  - **Interpretability:** Models built with linear kernels are easier to interpret, which can be important in certain applications (like medical or financial) where understanding the decision-making process is crucial.\n",
    "- **Disadvantages:**\n",
    "  - **Limited Complexity:** Linear kernels cannot model more complex relationships in the data. They cannot capture interactions between features since they only consider a linear decision boundary.\n",
    "\n",
    "## **Gaussian RBF**\n",
    "- **Advantages:**\n",
    "  - **Flexibility:** RBF kernels can model complex boundaries due to their ability to map samples nonlinearly into a higher-dimensional space, making them very effective for non-linear datasets.\n",
    "  - **Less Hyperparameters:** RBF kernels primarily depend on the parameter `gamma`, which defines how much influence a single training example has. The right `gamma` and `C` can model complex nonlinear patterns.\n",
    "- **Disadvantages:**\n",
    "  - **Computationally Intensive:** They require more computation to train and predict, especially as the number of support vectors grows.\n",
    "  - **Overfitting Risk:** If `gamma` is set too high, the model might overfit, considering even the smallest fluctuations in the data (high `gamma` values make the boundary decision more sensitive to individual points).\n",
    "\n",
    "## **Polynomial**\n",
    "- **Advantages:**\n",
    "  - **Versatility:** Polynomial kernels can model varying degrees of curvature in the decision boundary by adjusting the degree of the polynomial. This allows the model to fit more complex patterns than a linear kernel.\n",
    "  - **Feature Interaction:** They inherently consider interactions up to the polynomial degree, which can be beneficial in understanding feature interactions in the data.\n",
    "- **Disadvantages:**\n",
    "  - **Computation Cost:** Higher-degree polynomials increase the model complexity and computational cost.\n",
    "  - **Parameter Sensitivity:** Requires careful tuning of parameters (`degree`, `C`, and `c0`) which can be time-consuming and sensitive to overfitting with higher degrees.\n",
    "\n",
    "## **Sigmoid**\n",
    "- **Advantages:**\n",
    "  - **Neural Network Analogy:** The sigmoid kernel function resembles the activation function used in neural networks, providing a perceptron-like decision boundary.\n",
    "  - **Capability to Handle Non-linearity:** Like the RBF, it can handle non-linear relationships in the data.\n",
    "- **Disadvantages:**\n",
    "  - **Non-Positive Definiteness:** The sigmoid kernel is not always positive definite, which can lead to issues in certain SVM implementations.\n",
    "  - **Less Commonly Used:** It is less commonly used for SVM classification due to its complex nature and potential for not fulfilling Mercer's condition, which can result in SVM not converging.\n",
    "\n",
    "### **Overall Comparison**\n",
    "- **Linear** is best for large feature spaces where the relationship among features is approximately linear.\n",
    "- **RBF** is highly effective for cases where the relationship between class labels and attributes is nonlinear.\n",
    "- **Polynomial** offers a compromise between the complexity of RBF and the simplicity of linear kernels, with control over the model complexity via the degree.\n",
    "- **Sigmoid** kernel can be more challenging to use effectively due to its properties and is less common in SVM classifications but can be useful in specific scenarios mimicking neural activation functions.\n",
    "\n",
    "Choosing the right kernel and tuning its parameters are crucial for the performance of SVMs and depend heavily on the specific data and problem at hand. For most practical applications, RBF tends to be a default choice due to its flexibility and effectiveness across a wide range of tasks."
   ]
  }
 ],
 "metadata": {
  "colab": {
   "provenance": []
  },
  "kernelspec": {
   "display_name": "Python 3 (ipykernel)",
   "language": "python",
   "name": "python3"
  },
  "language_info": {
   "codemirror_mode": {
    "name": "ipython",
    "version": 3
   },
   "file_extension": ".py",
   "mimetype": "text/x-python",
   "name": "python",
   "nbconvert_exporter": "python",
   "pygments_lexer": "ipython3",
   "version": "3.11.6"
  }
 },
 "nbformat": 4,
 "nbformat_minor": 4
}
